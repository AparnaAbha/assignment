{
 "cells": [
  {
   "cell_type": "markdown",
   "id": "de0e6213-0acc-43d6-b40f-17aa429fba0c",
   "metadata": {},
   "source": [
    "# My Jupyter Notebook on Skills Network"
   ]
  },
  {
   "cell_type": "markdown",
   "id": "5366e997-0bed-44d7-8114-5b14ed3fb58c",
   "metadata": {},
   "source": [
    "**Aparna Sajeev**\n",
    "> Data Scientist"
   ]
  },
  {
   "cell_type": "markdown",
   "id": "681b9a60-e259-4ea8-afe0-0130d62bb23a",
   "metadata": {},
   "source": [
    "*I am interested in Data Science because I like Big Data. I am a curious and organized person. I also like to narrate stories. In Data science I'll be able to use my skills and knowledge to find solutions to problems by analysing data and deliver the findings and market it through story telling*"
   ]
  },
  {
   "cell_type": "markdown",
   "id": "798d97da-8451-4466-8431-1abac4ffd96a",
   "metadata": {},
   "source": [
    "### In the next code we see a simple addition"
   ]
  },
  {
   "cell_type": "code",
   "execution_count": 4,
   "id": "0801bcc6-2407-48ed-9f68-47d0d3c91370",
   "metadata": {},
   "outputs": [
    {
     "data": {
      "text/plain": [
       "23"
      ]
     },
     "execution_count": 4,
     "metadata": {},
     "output_type": "execute_result"
    }
   ],
   "source": [
    "10+13"
   ]
  },
  {
   "cell_type": "markdown",
   "id": "584d66a6-3c44-4856-90ea-6f898a880af3",
   "metadata": {},
   "source": [
    "`Colours`\n",
    "\n",
    "****\n",
    "\n",
    "Main colours we are considering here :\n",
    "* Red\n",
    "* Blue\n",
    "* Yellow\n",
    "\n",
    "First colour | Second Color | Combo colour\n",
    "--- | --- | --- |\n",
    "Red | Blue | Orange\n",
    "Blue | Yellow | Grey\n",
    "Yellow | Red | Purple\n",
    "\n",
    "> [Refer here] (https://www.liveworksheets.com/ou740008ac)\n",
    "\n",
    "~Thankyou~"
   ]
  },
  {
   "cell_type": "code",
   "execution_count": null,
   "id": "7d5a3a4e-c132-4518-aece-6a8083a23c53",
   "metadata": {},
   "outputs": [],
   "source": []
  }
 ],
 "metadata": {
  "kernelspec": {
   "display_name": "Python",
   "language": "python",
   "name": "conda-env-python-py"
  },
  "language_info": {
   "codemirror_mode": {
    "name": "ipython",
    "version": 3
   },
   "file_extension": ".py",
   "mimetype": "text/x-python",
   "name": "python",
   "nbconvert_exporter": "python",
   "pygments_lexer": "ipython3",
   "version": "3.7.12"
  }
 },
 "nbformat": 4,
 "nbformat_minor": 5
}
